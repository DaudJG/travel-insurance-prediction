{
 "cells": [
  {
   "cell_type": "markdown",
   "metadata": {},
   "source": [
    "# Travel Insurance Prediction Analysis\n",
    "\n",
    "## Introduction\n",
    "\n",
    "### Project Overview\n",
    "This notebook aims to predict which customers are likely to purchase a travel insurance package, including Covid cover, offered by a Tour & Travels Company. Using 2019 data from approximately 2000 customers, we will build a predictive model.\n",
    "\n",
    "### About the Dataset\n",
    "\n",
    "- **Context**: The dataset provides information on customers from 2019, detailing their likelihood of purchasing a travel insurance package.\n",
    "  \n",
    "- **Features**:\n",
    "  - **Age**: Customer's age\n",
    "  - **Employment Type**: Sector in which the customer works\n",
    "  - **GraduateOrNot**: Whether the customer is a college graduate\n",
    "  - **AnnualIncome**: Yearly income in INR (rounded to the nearest 50k)\n",
    "  - **FamilyMembers**: Number of family members\n",
    "  - **ChronicDisease**: Presence of major diseases (e.g., diabetes, high BP)\n",
    "  - **FrequentFlyer**: Booked air tickets at least 4 times in the last 2 years\n",
    "  - **EverTravelledAbroad**: Whether the customer has traveled abroad\n",
    "  - **TravelInsurance**: Whether the customer purchased insurance in 2019\n"
   ]
  },
  {
   "cell_type": "code",
   "execution_count": null,
   "metadata": {},
   "outputs": [],
   "source": []
  }
 ],
 "metadata": {
  "language_info": {
   "name": "python"
  }
 },
 "nbformat": 4,
 "nbformat_minor": 2
}
